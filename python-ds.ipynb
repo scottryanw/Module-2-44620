{
 "cells": [
  {
   "cell_type": "markdown",
   "metadata": {},
   "source": [
    "# Web Mining and Applied NLP (44-620)\n",
    "\n",
    "\n",
    "## Python Notebooks, Basics, and Data Structures\n",
    "\n",
    "### Student Name: Scott Williamson 10/28/2024\n",
    "\n",
    "All cells below edited for this assignment as described in the numbered markdown steps. "
   ]
  },
  {
   "cell_type": "markdown",
   "metadata": {},
   "source": [
    "1. Modify the Markdown cell above to put your name after \"Student Name:\"; you will be expected to do this in all assignments presented in this format for this class."
   ]
  },
  {
   "cell_type": "markdown",
   "metadata": {},
   "source": [
    "2. Write code that divides any two numbers, stores the result in a variable, and prints the result with an appropriate label."
   ]
  },
  {
   "cell_type": "code",
   "execution_count": 25,
   "metadata": {},
   "outputs": [
    {
     "name": "stdout",
     "output_type": "stream",
     "text": [
      "The result of the division is: 113.0\n"
     ]
    }
   ],
   "source": [
    "# Define the numbers to divide\n",
    "num1 = 452 \n",
    "num2 = 4  \n",
    "\n",
    "# Perform the division\n",
    "if num2 != 0:\n",
    "    result = num1 / num2\n",
    "    print(\"The result of the division is:\", result)\n",
    "else:\n",
    "    print(\"Error: Division by zero is not allowed.\")"
   ]
  },
  {
   "cell_type": "markdown",
   "metadata": {},
   "source": [
    "3. Using loops (and potentially conditionals), write Python code that prints the factorial of each integer from 1 through 10 (which you can store in a variable if you want). The factorial of an integer is the product of all of the integers of 1 through the number. Print the result with an appropriate label."
   ]
  },
  {
   "cell_type": "code",
   "execution_count": 26,
   "metadata": {},
   "outputs": [
    {
     "name": "stdout",
     "output_type": "stream",
     "text": [
      "The factorial of 1 is: 1\n",
      "The factorial of 2 is: 2\n",
      "The factorial of 3 is: 6\n",
      "The factorial of 4 is: 24\n",
      "The factorial of 5 is: 120\n",
      "The factorial of 6 is: 720\n",
      "The factorial of 7 is: 5040\n",
      "The factorial of 8 is: 40320\n",
      "The factorial of 9 is: 362880\n",
      "The factorial of 10 is: 3628800\n"
     ]
    }
   ],
   "source": [
    "# Loop through each integer from 1 to 10\n",
    "for num in range(1, 11):\n",
    "    # Initialize the factorial variable\n",
    "    factorial = 1\n",
    "    \n",
    "    # Calculate the factorial by multiplying all numbers from 1 to 'num'\n",
    "    for i in range(1, num + 1):\n",
    "        factorial *= i\n",
    "    \n",
    "    # Print the result with a label\n",
    "    print(f\"The factorial of {num} is: {factorial}\")\n"
   ]
  },
  {
   "cell_type": "markdown",
   "metadata": {},
   "source": [
    "4. Write a python function that takes a single parameter and calculates and returns the average (mean) of the values in the parameter (which you may assume is iterable).  Show that your function works by printing the result of calling the function on the list in the cell below."
   ]
  },
  {
   "cell_type": "code",
   "execution_count": 27,
   "metadata": {},
   "outputs": [
    {
     "name": "stdout",
     "output_type": "stream",
     "text": [
      "The average of the ptovided list is: 0.0\n",
      "The average of the list is: 8.2\n"
     ]
    }
   ],
   "source": [
    "testlist = [1,-1,2,-2,3,-3,4,-4]\n",
    "\n",
    "def calculate_average(values):\n",
    "    # Check if the iterable is not empty to avoid division by zero\n",
    "    if len(values) == 0:\n",
    "        return 0\n",
    "    # Calculate the average\n",
    "    return sum(values) / len(values)\n",
    "\n",
    "# Test the function with the provided list\n",
    "test_list = [1, -1, 2, -2, 3, -3, 4, -4]\n",
    "average = calculate_average(test_list)\n",
    "print(\"The average of the ptovided list is:\", average)\n",
    "\n",
    "# Test the function with any list\n",
    "test_list = [3, 5, 8, 10, 15]\n",
    "average = calculate_average(test_list)\n",
    "print(\"The average of the list is:\", average)"
   ]
  },
  {
   "cell_type": "markdown",
   "metadata": {},
   "source": [
    "5. Using your mean function above, write a function that calculates the variance of the list of numbers (see https://en.wikipedia.org/wiki/Variance for more information on the formula). In short:\n",
    "* subtract the mean of the elements in the list from every element in the list; store these values in a new list\n",
    "* square every element in the new list and sum the elements together\n",
    "* divide the resulting number by N (where N is the length of the original list)\n",
    "\n",
    "Show the result of calling your function in the lists in the code cell. You must use one or more list comprehensions or map/filter in your code.\n"
   ]
  },
  {
   "cell_type": "code",
   "execution_count": 28,
   "metadata": {},
   "outputs": [
    {
     "name": "stdout",
     "output_type": "stream",
     "text": [
      "The variance of list1 is: 1.13973309\n",
      "The variance of list2 is: 0.9257232841\n"
     ]
    }
   ],
   "source": [
    "list1 = [ 5.670e-1, -1.480e+0, -5.570e-1, -1.470e+0, 7.340e-1, 1.050e+0, 4.480e-1, 2.570e-1, -1.970e+0, -1.460e+0]\n",
    "list2 = [-1.780e+0, 2.640e-1, 1.160e+0, 9.080e-1, 1.780e+0, 1.080e+0, 1.050e+0, -4.630e-2, 1.520e+0, 5.350e-1]\n",
    "# the variances of both lists should be relatively close to 1 (off by less than .15)\n",
    "\n",
    "def calculate_average(values):\n",
    "    if len(values) == 0:\n",
    "        return 0\n",
    "    return sum(values) / len(values)\n",
    "\n",
    "def calculate_variance(values):\n",
    "    # Calculate the mean of the list\n",
    "    mean = calculate_average(values)\n",
    "    \n",
    "    # Compute the squared deviations using a list comprehension\n",
    "    squared_deviations = [(x - mean) ** 2 for x in values]\n",
    "    \n",
    "    # Calculate the variance\n",
    "    variance = sum(squared_deviations) / len(values)\n",
    "    return variance\n",
    "\n",
    "# Test the function with the provided lists\n",
    "list1 = [5.670e-1, -1.480e+0, -5.570e-1, -1.470e+0, 7.340e-1, 1.050e+0, 4.480e-1, 2.570e-1, -1.970e+0, -1.460e+0]\n",
    "list2 = [-1.780e+0, 2.640e-1, 1.160e+0, 9.080e-1, 1.780e+0, 1.080e+0, 1.050e+0, -4.630e-2, 1.520e+0, 5.350e-1]\n",
    "\n",
    "# Calculate and print the variance for each list\n",
    "variance_list1 = calculate_variance(list1)\n",
    "variance_list2 = calculate_variance(list2)\n",
    "\n",
    "print(\"The variance of list1 is:\", variance_list1)\n",
    "print(\"The variance of list2 is:\", variance_list2)\n"
   ]
  },
  {
   "cell_type": "markdown",
   "metadata": {},
   "source": [
    "6. Create a list with at least 15 elements in it. Use list slicing to print the following:\n",
    "* The first 5 elements of the list\n",
    "* The last 5 elements of the list\n",
    "* The list reversed (hint, show the entire list with a stride of -1)\n",
    "* Every second element in the list\n",
    "* Every third element in the list (stride of 3)"
   ]
  },
  {
   "cell_type": "code",
   "execution_count": 29,
   "metadata": {},
   "outputs": [
    {
     "name": "stdout",
     "output_type": "stream",
     "text": [
      "My list: [94, 27, 79, 41, 26, 39, 79, 4, 15, 86, 50, 85, 72, 96, 91]\n",
      "First 5 elements: [94, 27, 79, 41, 26]\n",
      "Last 5 elements: [50, 85, 72, 96, 91]\n",
      "List reversed: [91, 96, 72, 85, 50, 86, 15, 4, 79, 39, 26, 41, 79, 27, 94]\n",
      "Every second element: [94, 79, 26, 79, 15, 50, 72, 91]\n",
      "Every third element: [94, 41, 79, 86, 72]\n"
     ]
    }
   ],
   "source": [
    "import random\n",
    "\n",
    "# Generate a list with 15 random integers between 1 and 100\n",
    "my_list = [random.randint(1, 100) for _ in range(15)]\n",
    "\n",
    "# Print the generated list\n",
    "print(\"My list:\", my_list)\n",
    "\n",
    "# Print the first 5 elements\n",
    "print(\"First 5 elements:\", my_list[:5])\n",
    "\n",
    "# Print the last 5 elements\n",
    "print(\"Last 5 elements:\", my_list[-5:])\n",
    "\n",
    "# Print the list reversed\n",
    "print(\"List reversed:\", my_list[::-1])\n",
    "\n",
    "# Print every second element in the list\n",
    "print(\"Every second element:\", my_list[::2])\n",
    "\n",
    "# Print every third element in the list\n",
    "print(\"Every third element:\", my_list[::3])\n"
   ]
  },
  {
   "cell_type": "markdown",
   "metadata": {},
   "source": [
    "7. Build a dictionary that contains the following information about this class (with appropriate names as keys):\n",
    "* The name\n",
    "* The course number\n",
    "* The semester/term in which you are taking this course\n",
    "* The number of credit hours this course counts for\n",
    "* A list of the course learning objectives\n",
    "\n",
    "The majority of this information can be found in the syllabus. Print the dictionary."
   ]
  },
  {
   "cell_type": "code",
   "execution_count": 30,
   "metadata": {},
   "outputs": [],
   "source": [
    "course_info = {\n",
    "    \"name\": \"Web Mining and Applied Natural Language Processing (NLP)\",\n",
    "    \"course_number\": \"44-620\",\n",
    "    \"semester\": \"Fall 2024 - Block 2\",\n",
    "    \"credit_hours\": 3,\n",
    "    \"learning_objectives\": [\n",
    "        \"Manage Python libraries and packages\",\n",
    "        \"Interact with Hosted Version Control Systems (e.g., Git and GitHub)\",\n",
    "        \"Programmatically obtain and transform data from web-based APIs and HTML pages into a usable form\",\n",
    "        \"Describe the steps in a basic Natural Language Processing Pipeline\",\n",
    "        \"Use preexisting tools and software libraries to perform some Natural Language Processing, such as sentiment analysis\",\n",
    "        \"Explain results and conclusions drawn from the visualized information\"\n",
    "    ]\n",
    "}\n"
   ]
  },
  {
   "cell_type": "markdown",
   "metadata": {},
   "source": [
    "8.  Given the dictionary defined in the code cell below, print the list of level 3 spells the character has."
   ]
  },
  {
   "cell_type": "code",
   "execution_count": 31,
   "metadata": {},
   "outputs": [
    {
     "name": "stdout",
     "output_type": "stream",
     "text": [
      "Level 3 spells: ['Mass Healing Word', 'Nondetection', 'Revivify', 'Feign Death', 'Speak with Dead']\n"
     ]
    }
   ],
   "source": [
    "player_character = {'name': 'Kitab',\n",
    "                   'class': [('Cleric: Knowledge', 7)],\n",
    "                   'spells': {'cantrip': ['Guidance', 'Light', 'Thaumaturgy', 'Toll the Dead', 'Word of Radiance'],\n",
    "                             'level 1': ['Command', 'Detect Magic', 'Healing Word', 'Identify', 'Sleep'],\n",
    "                             'level 2': ['Augury', 'Calm Emotions', 'Command', 'Invisibility', 'Lesser Restoration'],\n",
    "                             'level 3': ['Mass Healing Word', 'Nondetection', 'Revivify', 'Feign Death', 'Speak with Dead'],\n",
    "                             'level 4': ['Banishment', 'Confusion']}\n",
    "                   }\n",
    "\n",
    "\n",
    "level_3_spells = player_character['spells']['level 3']\n",
    "print(\"Level 3 spells:\", level_3_spells)\n"
   ]
  },
  {
   "cell_type": "markdown",
   "metadata": {},
   "source": [
    "9. Write code to determine the number of unique elements in the list below.  You MUST use a set in finding your solution.  Print the number of unique values in the list with an appropriate label."
   ]
  },
  {
   "cell_type": "code",
   "execution_count": 32,
   "metadata": {},
   "outputs": [
    {
     "name": "stdout",
     "output_type": "stream",
     "text": [
      "The number of unique values is: 12\n"
     ]
    }
   ],
   "source": [
    "values = [10, 11, 10, 8, 1, 12, 0, 1, 6, 5, 5, 13, 6, 15, 0, 0, 1, 1, 9, 7]\n",
    "\n",
    "# Given list of values\n",
    "values = [10, 11, 10, 8, 1, 12, 0, 1, 6, 5, 5, 13, 6, 15, 0, 0, 1, 1, 9, 7]\n",
    "\n",
    "# Use a set to find unique elements\n",
    "unique_values = set(values)\n",
    "\n",
    "# Print the number of unique values\n",
    "print(\"The number of unique values is:\", len(unique_values))\n"
   ]
  },
  {
   "cell_type": "markdown",
   "metadata": {},
   "source": [
    "10. Create a new Jupyter Notebook (the name of the notebook should be your S number). Add a Markdown cell that contains your name. Add a Code cell and write Python that uses loops to draw the following pattern:\n",
    "\n",
    "```\n",
    "*      *\n",
    "**    **\n",
    "***  ***\n",
    "********\n",
    "```\n",
    "Make sure to add and submit both the new notebook and the changes to this notebook for this assignment."
   ]
  }
 ],
 "metadata": {
  "kernelspec": {
   "display_name": "Python 3",
   "language": "python",
   "name": "python3"
  },
  "language_info": {
   "codemirror_mode": {
    "name": "ipython",
    "version": 3
   },
   "file_extension": ".py",
   "mimetype": "text/x-python",
   "name": "python",
   "nbconvert_exporter": "python",
   "pygments_lexer": "ipython3",
   "version": "3.12.4"
  }
 },
 "nbformat": 4,
 "nbformat_minor": 4
}
